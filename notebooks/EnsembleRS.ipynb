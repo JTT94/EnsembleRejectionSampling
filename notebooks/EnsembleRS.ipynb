{
 "cells": [
  {
   "cell_type": "code",
   "execution_count": 1,
   "metadata": {},
   "outputs": [],
   "source": [
    "import numpy as np\n",
    "import numba as nb\n",
    "from numba import jit"
   ]
  },
  {
   "cell_type": "code",
   "execution_count": 2,
   "metadata": {},
   "outputs": [],
   "source": [
    "P=500;        # number of samples to generate from target\n",
    "\n",
    "T=50;       # length of time series\n",
    "N=500;      # number of candidates at each time step\n",
    "\n",
    "\n",
    "# signal and observations\n",
    "d = 1\n",
    "xtrue=np.zeros((T, d))\n",
    "y=np.zeros((T, d))\n",
    "alpha=0.95   # parameters from Biometrika 2011\n",
    "beta=0.7\n",
    "sv=0.3"
   ]
  },
  {
   "cell_type": "code",
   "execution_count": 3,
   "metadata": {},
   "outputs": [],
   "source": [
    "ss=sv/np.sqrt(1-alpha**2) # starting sigma"
   ]
  },
  {
   "cell_type": "code",
   "execution_count": 4,
   "metadata": {},
   "outputs": [],
   "source": [
    "xtrue=np.zeros((T, d));\n",
    "xtrue[0,:]=ss*np.random.randn(d)"
   ]
  },
  {
   "cell_type": "code",
   "execution_count": 5,
   "metadata": {},
   "outputs": [],
   "source": [
    "y[0]=beta*np.exp(xtrue[0,0]/2)*np.random.randn(d);"
   ]
  },
  {
   "cell_type": "code",
   "execution_count": 6,
   "metadata": {},
   "outputs": [],
   "source": [
    "for t in np.arange(1,T):\n",
    "    xtrue[t]=alpha*xtrue[t-1]+sv*np.random.randn(d)\n",
    "    y[t]=beta*np.exp(xtrue[t]/2)*np.random.randn(d)"
   ]
  },
  {
   "cell_type": "code",
   "execution_count": 7,
   "metadata": {},
   "outputs": [],
   "source": [
    "wbar        = np.zeros(T)\n",
    "wbar[0]   = 1/ss\n",
    "wbar[1:T] = np.ones(T-1)/sv"
   ]
  },
  {
   "cell_type": "code",
   "execution_count": 8,
   "metadata": {},
   "outputs": [],
   "source": [
    "logZ=0        # estimator of log-normalizing constant\n",
    "logZbar=0      # bound on the log-normalizing constant\n",
    "\n",
    "xcand=np.zeros((T,d)) # candidate associated to this proposed path\n",
    "xacc=np.zeros((P,T))  # exact samples stored\n",
    "\n",
    "\n",
    "ntrials=0.              # number of trials\n",
    "pacc=0.                  # estimated acceptance proba\n",
    "paccave=0.              # estimated by averaging \n",
    "paccasq=0.              # store sum square\n",
    "\n"
   ]
  },
  {
   "cell_type": "code",
   "execution_count": 9,
   "metadata": {},
   "outputs": [],
   "source": [
    "def random_grid(beta, N, T, y):\n",
    "    x=np.zeros((T,N,d))\n",
    "    for t in np.arange(T):\n",
    "        x[t]=(np.log(y[t]**2)-np.log(beta**2))*np.ones((N,d))-np.log(np.random.randn(N,d)**2)\n",
    "    return x"
   ]
  },
  {
   "cell_type": "code",
   "execution_count": 10,
   "metadata": {},
   "outputs": [],
   "source": [
    "def bound_initw(winit, wbar, icand):\n",
    "    winit[icand[0]] = wbar[0]\n",
    "    return winit\n",
    "\n",
    "def bound_w(w, wbar, icand, t):\n",
    "    w[icand[t],:] = wbar[t]\n",
    "    w[:, icand[t]] = wbar[t]\n",
    "    return w"
   ]
  },
  {
   "cell_type": "code",
   "execution_count": null,
   "metadata": {},
   "outputs": [],
   "source": []
  },
  {
   "cell_type": "code",
   "execution_count": 11,
   "metadata": {},
   "outputs": [],
   "source": [
    "\n",
    "def compute_squared_distances(x, y):\n",
    "    x2 = np.expand_dims(np.sum(x**2, axis=1),-1)\n",
    "    y2 = np.expand_dims(np.sum(y**2, axis=1),-1)\n",
    "    dists = -2 * np.dot(x, y.T) + y2.T + x2\n",
    "    return dists"
   ]
  },
  {
   "cell_type": "code",
   "execution_count": 12,
   "metadata": {},
   "outputs": [],
   "source": [
    "\n",
    "def step(x, alpha, sv, predlike, filter_state, llike, t):\n",
    "    x1=x[t]\n",
    "    x2=alpha*x[t-1]  \n",
    "    dists = compute_squared_distances(x1,x2)\n",
    "    \n",
    "    logw = dists / (2.*sv**2)\n",
    "    logwmin=np.min(logw)\n",
    "\n",
    "    w = np.exp(-logwmin)*np.exp(-logw+logwmin)/sv\n",
    "\n",
    "    filter_state[t]=w.dot(filter_state[t-1])\n",
    "    predlike[t]=np.sum(filter_state[t])\n",
    "    filter_state[t]=filter_state[t]/predlike[t]\n",
    "    llike=llike+np.log(predlike[t])\n",
    "    return llike, predlike, filter_state"
   ]
  },
  {
   "cell_type": "code",
   "execution_count": null,
   "metadata": {},
   "outputs": [],
   "source": []
  },
  {
   "cell_type": "code",
   "execution_count": 13,
   "metadata": {},
   "outputs": [],
   "source": [
    "\n",
    "def forwardHMM(x, alpha, sv):\n",
    "    predlike=np.zeros(T)  \n",
    "    filter_state=np.zeros((T,N)) \n",
    "    \n",
    "    #init\n",
    "    winit = (np.exp(-x[0,:,0]**2./(2*ss**2))/ss)\n",
    "    filter_state[0] = winit\n",
    "    predlike[0] = np.sum(filter_state[0])\n",
    "    llike = np.log(predlike[0])\n",
    "    filter_state[0] = filter_state[0]/predlike[0]\n",
    "    \n",
    "    llike=0. \n",
    "    for t in range(1,T):\n",
    "        llike, predlike, filter_state = step(x, alpha, sv, predlike, filter_state, llike, t)\n",
    "    return llike, predlike, filter_state"
   ]
  },
  {
   "cell_type": "code",
   "execution_count": 14,
   "metadata": {},
   "outputs": [],
   "source": [
    "\n",
    "def bound_step(x, alpha, sv, predlike, filter_state, llike, wbar, icand, t):\n",
    "    x1=x[t]\n",
    "    x2=alpha*x[t-1]  \n",
    "    dists = compute_squared_distances(x1,x2)\n",
    "    \n",
    "    logw = dists / (2.*sv**2)\n",
    "    logwmin=np.min(logw)\n",
    "\n",
    "    w = np.exp(-logwmin)*np.exp(-logw+logwmin)/sv\n",
    "    w = bound_w(w, wbar, icand, t)\n",
    "    \n",
    "    filter_state[t]=w.dot(filter_state[t-1])\n",
    "    predlike[t]=np.sum(filter_state[t])\n",
    "    filter_state[t]=filter_state[t]/predlike[t]\n",
    "    llike=llike+np.log(predlike[t])\n",
    "    return llike, predlike, filter_state"
   ]
  },
  {
   "cell_type": "code",
   "execution_count": 15,
   "metadata": {},
   "outputs": [],
   "source": [
    "\n",
    "def forwardHMMbound(x, alpha, sv, icand, wbar):\n",
    "    predlike=np.zeros(T)  \n",
    "    filter_state=np.zeros((T,N)) \n",
    "    \n",
    "    #init\n",
    "    winit = (np.exp(-x[0,:,0]**2./(2*ss**2))/ss)\n",
    "    winit = bound_initw(winit, wbar, icand)\n",
    "\n",
    "    \n",
    "    filter_state[0] = winit\n",
    "    predlike[0] = np.sum(filter_state[0])\n",
    "    llike = np.log(predlike[0])\n",
    "    filter_state[0] = filter_state[0]/predlike[0]\n",
    "    \n",
    "    llike=0. \n",
    "    \n",
    "    for t in range(1,T):\n",
    "        llike, predlike, filter_state = bound_step(x, alpha, sv, predlike, filter_state, llike, wbar, icand, t)\n",
    "    return llike, predlike, filter_state"
   ]
  },
  {
   "cell_type": "code",
   "execution_count": 16,
   "metadata": {},
   "outputs": [],
   "source": [
    "def backwardsampling(x, alpha, sv, filter_state):\n",
    "    \n",
    "    icand = np.zeros(T, int)\n",
    "    backfilter = np.zeros(N)\n",
    "    transition = np.zeros(N)\n",
    "    \n",
    "    icand[T-1] = np.random.choice(N,size=1, replace=True, p=filter_state[-1])\n",
    "    \n",
    "    for t in np.arange(0, T-1)[::-1]:\n",
    "        transition = np.exp(-(x[t+1,icand[t+1],:])-alpha*x[t]**2/(2*sv**2))/sv\n",
    "        backfilter = filter_state[t]*transition.squeeze()\n",
    "        backfilter = backfilter/np.sum(backfilter) \n",
    "        icand[t]   = np.random.choice(N, size=1, replace= True, p=backfilter)\n",
    "    return icand"
   ]
  },
  {
   "cell_type": "code",
   "execution_count": 17,
   "metadata": {},
   "outputs": [
    {
     "ename": "KeyboardInterrupt",
     "evalue": "",
     "output_type": "error",
     "traceback": [
      "\u001b[0;31m---------------------------------------------------------------------------\u001b[0m",
      "\u001b[0;31mKeyboardInterrupt\u001b[0m                         Traceback (most recent call last)",
      "\u001b[0;32m<ipython-input-17-46c5ff4899ca>\u001b[0m in \u001b[0;36m<module>\u001b[0;34m\u001b[0m\n\u001b[1;32m      9\u001b[0m     \u001b[0mlogZ\u001b[0m\u001b[0;34m,\u001b[0m \u001b[0m_\u001b[0m\u001b[0;34m,\u001b[0m \u001b[0mfilter_state\u001b[0m \u001b[0;34m=\u001b[0m \u001b[0mforwardHMM\u001b[0m\u001b[0;34m(\u001b[0m\u001b[0mx\u001b[0m\u001b[0;34m,\u001b[0m \u001b[0malpha\u001b[0m\u001b[0;34m,\u001b[0m \u001b[0msv\u001b[0m\u001b[0;34m)\u001b[0m\u001b[0;34m\u001b[0m\u001b[0;34m\u001b[0m\u001b[0m\n\u001b[1;32m     10\u001b[0m     \u001b[0micand\u001b[0m \u001b[0;34m=\u001b[0m \u001b[0mbackwardsampling\u001b[0m\u001b[0;34m(\u001b[0m\u001b[0mx\u001b[0m\u001b[0;34m,\u001b[0m \u001b[0malpha\u001b[0m\u001b[0;34m,\u001b[0m \u001b[0msv\u001b[0m\u001b[0;34m,\u001b[0m \u001b[0mfilter_state\u001b[0m\u001b[0;34m)\u001b[0m\u001b[0;34m\u001b[0m\u001b[0;34m\u001b[0m\u001b[0m\n\u001b[0;32m---> 11\u001b[0;31m     \u001b[0mlogZbar\u001b[0m\u001b[0;34m,\u001b[0m \u001b[0m_\u001b[0m\u001b[0;34m,\u001b[0m \u001b[0m_\u001b[0m \u001b[0;34m=\u001b[0m \u001b[0mforwardHMMbound\u001b[0m\u001b[0;34m(\u001b[0m\u001b[0mx\u001b[0m\u001b[0;34m,\u001b[0m \u001b[0malpha\u001b[0m\u001b[0;34m,\u001b[0m \u001b[0msv\u001b[0m\u001b[0;34m,\u001b[0m \u001b[0micand\u001b[0m\u001b[0;34m,\u001b[0m \u001b[0mwbar\u001b[0m\u001b[0;34m)\u001b[0m\u001b[0;34m\u001b[0m\u001b[0;34m\u001b[0m\u001b[0m\n\u001b[0m\u001b[1;32m     12\u001b[0m     \u001b[0mpacc\u001b[0m\u001b[0;34m=\u001b[0m \u001b[0mnp\u001b[0m\u001b[0;34m.\u001b[0m\u001b[0mexp\u001b[0m\u001b[0;34m(\u001b[0m\u001b[0mlogZ\u001b[0m\u001b[0;34m-\u001b[0m\u001b[0mlogZbar\u001b[0m\u001b[0;34m)\u001b[0m\u001b[0;34m\u001b[0m\u001b[0;34m\u001b[0m\u001b[0m\n\u001b[1;32m     13\u001b[0m \u001b[0;34m\u001b[0m\u001b[0m\n",
      "\u001b[0;32m<ipython-input-15-a6a1fe6ee823>\u001b[0m in \u001b[0;36mforwardHMMbound\u001b[0;34m(x, alpha, sv, icand, wbar)\u001b[0m\n\u001b[1;32m     16\u001b[0m \u001b[0;34m\u001b[0m\u001b[0m\n\u001b[1;32m     17\u001b[0m     \u001b[0;32mfor\u001b[0m \u001b[0mt\u001b[0m \u001b[0;32min\u001b[0m \u001b[0mrange\u001b[0m\u001b[0;34m(\u001b[0m\u001b[0;36m1\u001b[0m\u001b[0;34m,\u001b[0m\u001b[0mT\u001b[0m\u001b[0;34m)\u001b[0m\u001b[0;34m:\u001b[0m\u001b[0;34m\u001b[0m\u001b[0;34m\u001b[0m\u001b[0m\n\u001b[0;32m---> 18\u001b[0;31m         \u001b[0mllike\u001b[0m\u001b[0;34m,\u001b[0m \u001b[0mpredlike\u001b[0m\u001b[0;34m,\u001b[0m \u001b[0mfilter_state\u001b[0m \u001b[0;34m=\u001b[0m \u001b[0mbound_step\u001b[0m\u001b[0;34m(\u001b[0m\u001b[0mx\u001b[0m\u001b[0;34m,\u001b[0m \u001b[0malpha\u001b[0m\u001b[0;34m,\u001b[0m \u001b[0msv\u001b[0m\u001b[0;34m,\u001b[0m \u001b[0mpredlike\u001b[0m\u001b[0;34m,\u001b[0m \u001b[0mfilter_state\u001b[0m\u001b[0;34m,\u001b[0m \u001b[0mllike\u001b[0m\u001b[0;34m,\u001b[0m \u001b[0mwbar\u001b[0m\u001b[0;34m,\u001b[0m \u001b[0micand\u001b[0m\u001b[0;34m,\u001b[0m \u001b[0mt\u001b[0m\u001b[0;34m)\u001b[0m\u001b[0;34m\u001b[0m\u001b[0;34m\u001b[0m\u001b[0m\n\u001b[0m\u001b[1;32m     19\u001b[0m     \u001b[0;32mreturn\u001b[0m \u001b[0mllike\u001b[0m\u001b[0;34m,\u001b[0m \u001b[0mpredlike\u001b[0m\u001b[0;34m,\u001b[0m \u001b[0mfilter_state\u001b[0m\u001b[0;34m\u001b[0m\u001b[0;34m\u001b[0m\u001b[0m\n",
      "\u001b[0;32m<ipython-input-14-bae503a59a49>\u001b[0m in \u001b[0;36mbound_step\u001b[0;34m(x, alpha, sv, predlike, filter_state, llike, wbar, icand, t)\u001b[0m\n\u001b[1;32m      7\u001b[0m     \u001b[0mlogwmin\u001b[0m\u001b[0;34m=\u001b[0m\u001b[0mnp\u001b[0m\u001b[0;34m.\u001b[0m\u001b[0mmin\u001b[0m\u001b[0;34m(\u001b[0m\u001b[0mlogw\u001b[0m\u001b[0;34m)\u001b[0m\u001b[0;34m\u001b[0m\u001b[0;34m\u001b[0m\u001b[0m\n\u001b[1;32m      8\u001b[0m \u001b[0;34m\u001b[0m\u001b[0m\n\u001b[0;32m----> 9\u001b[0;31m     \u001b[0mw\u001b[0m \u001b[0;34m=\u001b[0m \u001b[0mnp\u001b[0m\u001b[0;34m.\u001b[0m\u001b[0mexp\u001b[0m\u001b[0;34m(\u001b[0m\u001b[0;34m-\u001b[0m\u001b[0mlogwmin\u001b[0m\u001b[0;34m)\u001b[0m\u001b[0;34m*\u001b[0m\u001b[0mnp\u001b[0m\u001b[0;34m.\u001b[0m\u001b[0mexp\u001b[0m\u001b[0;34m(\u001b[0m\u001b[0;34m-\u001b[0m\u001b[0mlogw\u001b[0m\u001b[0;34m+\u001b[0m\u001b[0mlogwmin\u001b[0m\u001b[0;34m)\u001b[0m\u001b[0;34m/\u001b[0m\u001b[0msv\u001b[0m\u001b[0;34m\u001b[0m\u001b[0;34m\u001b[0m\u001b[0m\n\u001b[0m\u001b[1;32m     10\u001b[0m     \u001b[0mw\u001b[0m \u001b[0;34m=\u001b[0m \u001b[0mbound_w\u001b[0m\u001b[0;34m(\u001b[0m\u001b[0mw\u001b[0m\u001b[0;34m,\u001b[0m \u001b[0mwbar\u001b[0m\u001b[0;34m,\u001b[0m \u001b[0micand\u001b[0m\u001b[0;34m,\u001b[0m \u001b[0mt\u001b[0m\u001b[0;34m)\u001b[0m\u001b[0;34m\u001b[0m\u001b[0;34m\u001b[0m\u001b[0m\n\u001b[1;32m     11\u001b[0m \u001b[0;34m\u001b[0m\u001b[0m\n",
      "\u001b[0;31mKeyboardInterrupt\u001b[0m: "
     ]
    }
   ],
   "source": [
    "n_samples = P\n",
    "n_acc_samples = 0\n",
    "acccepted_x = []\n",
    "cand_x = []\n",
    "n_trial = 0\n",
    "while n_acc_samples < n_samples:\n",
    "    n_trial += 1\n",
    "    x = random_grid(beta, N, T, y)\n",
    "    logZ, _, filter_state = forwardHMM(x, alpha, sv)\n",
    "    icand = backwardsampling(x, alpha, sv, filter_state)\n",
    "    logZbar, _, _ = forwardHMMbound(x, alpha, sv, icand, wbar)\n",
    "    pacc= np.exp(logZ-logZbar)\n",
    "    \n",
    "    for t in range(T):\n",
    "        xcand[t] = x[t,icand[t],:]\n",
    "    \n",
    "    cand_x.append(xcand.copy())\n",
    "    u = np.random.random()\n",
    "    if u < pacc:\n",
    "        xacc = xcand.copy()\n",
    "        n_acc_samples += 1\n",
    "        acccepted_x.append(xacc)\n",
    "    if n_trial % 100 == 0:\n",
    "        print(n_acc_samples)\n",
    "        print(n_acc_samples/n_trial)\n",
    "    "
   ]
  },
  {
   "cell_type": "code",
   "execution_count": null,
   "metadata": {},
   "outputs": [],
   "source": [
    "n_acc_samples / n_trial"
   ]
  },
  {
   "cell_type": "code",
   "execution_count": null,
   "metadata": {},
   "outputs": [],
   "source": [
    "acccepted_x = np.array(acccepted_x)\n",
    "cand_x = np.array(cand_x)"
   ]
  },
  {
   "cell_type": "code",
   "execution_count": null,
   "metadata": {},
   "outputs": [],
   "source": [
    "acccepted_x.shape\n"
   ]
  },
  {
   "cell_type": "code",
   "execution_count": null,
   "metadata": {},
   "outputs": [],
   "source": [
    "cand_x.shape"
   ]
  },
  {
   "cell_type": "code",
   "execution_count": null,
   "metadata": {},
   "outputs": [],
   "source": [
    "import pandas as pd\n",
    "import matplotlib.pyplot as plt"
   ]
  },
  {
   "cell_type": "code",
   "execution_count": null,
   "metadata": {},
   "outputs": [],
   "source": []
  },
  {
   "cell_type": "code",
   "execution_count": null,
   "metadata": {},
   "outputs": [],
   "source": [
    "xtrue = xtrue.squeeze()"
   ]
  },
  {
   "cell_type": "code",
   "execution_count": null,
   "metadata": {},
   "outputs": [],
   "source": [
    "cand_x.shape"
   ]
  },
  {
   "cell_type": "code",
   "execution_count": null,
   "metadata": {},
   "outputs": [],
   "source": [
    "for i in range(cand_x.shape[0]):\n",
    "    plt.plot(cand_x[i,:,0], color = 'gray')\n",
    "    \n",
    "for i in range(acccepted_x.shape[0]):\n",
    "    plt.plot(acccepted_x[i,:,0], color = 'blue')\n",
    "\n",
    "plt.plot(xtrue, color = 'red')"
   ]
  },
  {
   "cell_type": "code",
   "execution_count": null,
   "metadata": {},
   "outputs": [],
   "source": [
    "pd.DataFrame(cand_x[:,:,0].T).plot()"
   ]
  },
  {
   "cell_type": "code",
   "execution_count": null,
   "metadata": {},
   "outputs": [],
   "source": [
    "acccepted_x[:,:,0].shape"
   ]
  },
  {
   "cell_type": "code",
   "execution_count": null,
   "metadata": {},
   "outputs": [],
   "source": [
    "plt.plot(acccepted_x[0,:,0])\n",
    "plt.plot(acccepted_x[1,:,0])"
   ]
  },
  {
   "cell_type": "code",
   "execution_count": null,
   "metadata": {},
   "outputs": [],
   "source": [
    "pacc=exp(logZ-logZbar)\n",
    "            u=rand(1);\n",
    "            if u<pacc\n",
    "                xacc(p,:)=xcand;\n",
    "                flag=0;\n",
    "            end"
   ]
  }
 ],
 "metadata": {
  "kernelspec": {
   "display_name": "venv",
   "language": "python",
   "name": "venv"
  },
  "language_info": {
   "codemirror_mode": {
    "name": "ipython",
    "version": 3
   },
   "file_extension": ".py",
   "mimetype": "text/x-python",
   "name": "python",
   "nbconvert_exporter": "python",
   "pygments_lexer": "ipython3",
   "version": "3.8.3"
  }
 },
 "nbformat": 4,
 "nbformat_minor": 4
}
