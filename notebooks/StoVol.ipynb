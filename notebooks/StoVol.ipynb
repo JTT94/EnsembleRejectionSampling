{
 "cells": [
  {
   "cell_type": "code",
   "execution_count": 1,
   "metadata": {},
   "outputs": [],
   "source": [
    "import numpy as np\n",
    "import pandas as pd\n",
    "import matplotlib.pyplot as plt"
   ]
  },
  {
   "cell_type": "code",
   "execution_count": 2,
   "metadata": {},
   "outputs": [],
   "source": [
    "import os, sys"
   ]
  },
  {
   "cell_type": "code",
   "execution_count": 3,
   "metadata": {},
   "outputs": [],
   "source": [
    "sys.path.append('..')"
   ]
  },
  {
   "cell_type": "code",
   "execution_count": 4,
   "metadata": {},
   "outputs": [],
   "source": [
    "from ers.base import ERS\n",
    "from ers.models import StoVol"
   ]
  },
  {
   "cell_type": "code",
   "execution_count": 13,
   "metadata": {},
   "outputs": [],
   "source": [
    "T = 25\n",
    "alpha=0.95\n",
    "beta=0.7\n",
    "sv=0.3\n",
    "d=2\n",
    "\n",
    "stovol = StoVol(dimension=d, alpha=alpha, beta=beta, sv=sv)"
   ]
  },
  {
   "cell_type": "code",
   "execution_count": 14,
   "metadata": {},
   "outputs": [],
   "source": [
    "xtrue=np.zeros((T, d));\n",
    "xtrue[0]=stovol.ss*np.random.randn(d)\n",
    "\n",
    "y=np.zeros((T, d))\n",
    "y[0]=beta*np.exp(xtrue[0,0]/2)*np.random.randn(d);\n",
    "for t in np.arange(1,T):\n",
    "    xtrue[t]=alpha*xtrue[t-1]+sv*np.random.randn(d)\n",
    "    y[t]=beta*np.exp(xtrue[t]/2)*np.random.randn(d)"
   ]
  },
  {
   "cell_type": "code",
   "execution_count": 15,
   "metadata": {},
   "outputs": [
    {
     "data": {
      "text/plain": [
       "[<matplotlib.lines.Line2D at 0x7f257c9a5610>,\n",
       " <matplotlib.lines.Line2D at 0x7f257c9a5730>]"
      ]
     },
     "execution_count": 15,
     "metadata": {},
     "output_type": "execute_result"
    },
    {
     "data": {
      "image/png": "[encoded data removed]",
      "text/plain": [
       "<Figure size 432x288 with 1 Axes>"
      ]
     },
     "metadata": {
      "needs_background": "light"
     },
     "output_type": "display_data"
    }
   ],
   "source": [
    "plt.plot(xtrue, color = 'red')"
   ]
  },
  {
   "cell_type": "code",
   "execution_count": null,
   "metadata": {},
   "outputs": [
    {
     "name": "stderr",
     "output_type": "stream",
     "text": [
      "\r",
      "  0%|          | 0/2 [00:00<?, ?it/s]"
     ]
    }
   ],
   "source": [
    "n_samples = 2\n",
    "accepted_x, cand_x, n_trial = stovol.sample_n(n_samples=n_samples, n_particles=5000, T=T, y=y)"
   ]
  },
  {
   "cell_type": "code",
   "execution_count": null,
   "metadata": {},
   "outputs": [],
   "source": [
    "n_samples/ n_trial"
   ]
  },
  {
   "cell_type": "code",
   "execution_count": null,
   "metadata": {},
   "outputs": [],
   "source": [
    "average_x = np.mean(accepted_x, axis=0)"
   ]
  },
  {
   "cell_type": "code",
   "execution_count": null,
   "metadata": {},
   "outputs": [],
   "source": [
    "for i in range(cand_x.shape[0]):\n",
    "    plt.plot(cand_x[i,:,0], color = 'gray')\n",
    "    \n",
    "for i in range(accepted_x.shape[0]):\n",
    "    plt.plot(accepted_x[i,:,0], color = 'blue')\n",
    "\n",
    "plt.plot(xtrue, color = 'red')\n",
    "plt.plot(average_x, color = 'pink')"
   ]
  },
  {
   "cell_type": "code",
   "execution_count": null,
   "metadata": {},
   "outputs": [],
   "source": [
    " from pathos.multiprocessing import ProcessingPool as Pool"
   ]
  },
  {
   "cell_type": "code",
   "execution_count": null,
   "metadata": {},
   "outputs": [],
   "source": [
    "\n",
    "import time"
   ]
  },
  {
   "cell_type": "code",
   "execution_count": null,
   "metadata": {},
   "outputs": [],
   "source": [
    "start = time.time()\n",
    "num_workers = 3\n",
    "n_samples = 100\n",
    "n_particles = 2000\n",
    "f = lambda x : stovol.sample_n(n_samples=n_samples, n_particles=n_particles, T=T, y=y)\n",
    "with Pool(num_workers) as p:\n",
    "        out = p.map(f, range(num_workers))\n",
    "time.time()-start"
   ]
  },
  {
   "cell_type": "code",
   "execution_count": null,
   "metadata": {},
   "outputs": [],
   "source": [
    "accepted_x = np.concatenate([out[i][0] for i in range(num_workers)])\n",
    "cand_x = np.concatenate([out[i][1] for i in range(num_workers)])\n",
    "average_x = np.mean(accepted_x, axis=0)"
   ]
  },
  {
   "cell_type": "code",
   "execution_count": null,
   "metadata": {},
   "outputs": [],
   "source": [
    "for i in range(cand_x.shape[0]):\n",
    "    plt.plot(cand_x[i,:,0], color = 'gray')\n",
    "    \n",
    "for i in range(accepted_x.shape[0]):\n",
    "    plt.plot(accepted_x[i,:,0], color = 'blue')\n",
    "\n",
    "plt.plot(xtrue, color = 'red')\n",
    "plt.plot(average_x, color = 'pink')"
   ]
  },
  {
   "cell_type": "code",
   "execution_count": null,
   "metadata": {},
   "outputs": [],
   "source": [
    "def gen_y(x):\n",
    "    T = np.shape(x)[0]\n",
    "    d = np.shape(x)[1]\n",
    "    \n",
    "    y=np.zeros((T, d))\n",
    "    y[0]=beta*np.exp(xtrue[0,0]/2)*np.random.randn(d);\n",
    "    for t in np.arange(1,T):\n",
    "        y[t]=beta*np.exp(x[t]/2)*np.random.randn(d)\n",
    "    return y\n",
    "\n",
    "def gen_ave_y(x, n=100):\n",
    "    ys = np.array([gen_y(x) for _ in range(n)])\n",
    "    return ys\n",
    "        "
   ]
  },
  {
   "cell_type": "code",
   "execution_count": null,
   "metadata": {},
   "outputs": [],
   "source": [
    "plt.plot(y)\n",
    "plt.plot(gen_y(xtrue), color='red')"
   ]
  },
  {
   "cell_type": "code",
   "execution_count": null,
   "metadata": {},
   "outputs": [],
   "source": [
    "\n",
    "plt.ylim(-4,4)\n",
    "\n",
    "\n",
    "ys = gen_ave_y(xtrue, 100)\n",
    "for y_i in ys:\n",
    "    plt.plot(y_i, color='green')\n",
    "    \n",
    "ys = gen_ave_y(average_x, 100)\n",
    "for y_i in ys:\n",
    "    plt.plot(y_i, color='red')\n",
    "plt.plot(y)\n",
    "\n",
    "\n",
    "plt.plot(y)"
   ]
  },
  {
   "cell_type": "code",
   "execution_count": null,
   "metadata": {},
   "outputs": [],
   "source": [
    "\n",
    "plt.ylim(-4,4)\n",
    "\n",
    "\n",
    "    \n",
    "ys = gen_ave_y(average_x, 100)\n",
    "for y_i in ys:\n",
    "    plt.plot(y_i, color='red')\n",
    "plt.plot(y)\n",
    "\n",
    "\n",
    "ys = gen_ave_y(xtrue, 100)\n",
    "for y_i in ys:\n",
    "    plt.plot(y_i, color='green')\n",
    "    \n",
    "plt.plot(y)"
   ]
  },
  {
   "cell_type": "code",
   "execution_count": null,
   "metadata": {},
   "outputs": [],
   "source": []
  },
  {
   "cell_type": "code",
   "execution_count": null,
   "metadata": {},
   "outputs": [],
   "source": []
  }
 ],
 "metadata": {
  "kernelspec": {
   "display_name": "venv",
   "language": "python",
   "name": "venv"
  },
  "language_info": {
   "codemirror_mode": {
    "name": "ipython",
    "version": 3
   },
   "file_extension": ".py",
   "mimetype": "text/x-python",
   "name": "python",
   "nbconvert_exporter": "python",
   "pygments_lexer": "ipython3",
   "version": "3.8.3"
  }
 },
 "nbformat": 4,
 "nbformat_minor": 4
}
